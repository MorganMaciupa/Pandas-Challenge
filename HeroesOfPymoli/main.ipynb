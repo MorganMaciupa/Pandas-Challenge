{
 "cells": [
  {
   "cell_type": "code",
   "execution_count": 110,
   "metadata": {},
   "outputs": [],
   "source": [
    "#dependencies and setup\n",
    "\n",
    "import pandas as pd\n",
    "\n",
    "# file to load\n",
    "file_to_load = \"Resources/purchase_data.csv\"\n",
    "\n",
    "# Read purchasing file and store into Pandas data frame\n",
    "purchase_data = pd.read_csv(file_to_load)\n"
   ]
  },
  {
   "cell_type": "markdown",
   "metadata": {},
   "source": [
    "Player Count:\n",
    "Display the total number of players"
   ]
  },
  {
   "cell_type": "code",
   "execution_count": 126,
   "metadata": {},
   "outputs": [
    {
     "data": {
      "text/html": [
       "<div>\n",
       "<style scoped>\n",
       "    .dataframe tbody tr th:only-of-type {\n",
       "        vertical-align: middle;\n",
       "    }\n",
       "\n",
       "    .dataframe tbody tr th {\n",
       "        vertical-align: top;\n",
       "    }\n",
       "\n",
       "    .dataframe thead th {\n",
       "        text-align: right;\n",
       "    }\n",
       "</style>\n",
       "<table border=\"1\" class=\"dataframe\">\n",
       "  <thead>\n",
       "    <tr style=\"text-align: right;\">\n",
       "      <th></th>\n",
       "      <th>Total_Players</th>\n",
       "    </tr>\n",
       "  </thead>\n",
       "  <tbody>\n",
       "    <tr>\n",
       "      <th>0</th>\n",
       "      <td>576</td>\n",
       "    </tr>\n",
       "  </tbody>\n",
       "</table>\n",
       "</div>"
      ],
      "text/plain": [
       "   Total_Players\n",
       "0            576"
      ]
     },
     "execution_count": 126,
     "metadata": {},
     "output_type": "execute_result"
    }
   ],
   "source": [
    "#Count the total number of unique player IDs in row[1]\n",
    "\n",
    "total_players = purchase_data['SN'].nunique() #gives simple count of the unique values (ie individual players) in SN column.\n",
    "\n",
    "#Display as basic table\n",
    "\n",
    "total_players_df = pd.DataFrame({'Total_Players': total_players}, index = [0])\n",
    "total_players_df"
   ]
  },
  {
   "cell_type": "code",
   "execution_count": 112,
   "metadata": {},
   "outputs": [
    {
     "data": {
      "text/html": [
       "<div>\n",
       "<style scoped>\n",
       "    .dataframe tbody tr th:only-of-type {\n",
       "        vertical-align: middle;\n",
       "    }\n",
       "\n",
       "    .dataframe tbody tr th {\n",
       "        vertical-align: top;\n",
       "    }\n",
       "\n",
       "    .dataframe thead th {\n",
       "        text-align: right;\n",
       "    }\n",
       "</style>\n",
       "<table border=\"1\" class=\"dataframe\">\n",
       "  <thead>\n",
       "    <tr style=\"text-align: right;\">\n",
       "      <th></th>\n",
       "      <th>Total_Players</th>\n",
       "    </tr>\n",
       "  </thead>\n",
       "  <tbody>\n",
       "    <tr>\n",
       "      <th>0</th>\n",
       "      <td>576</td>\n",
       "    </tr>\n",
       "  </tbody>\n",
       "</table>\n",
       "</div>"
      ],
      "text/plain": [
       "   Total_Players\n",
       "0            576"
      ]
     },
     "execution_count": 112,
     "metadata": {},
     "output_type": "execute_result"
    }
   ],
   "source": []
  },
  {
   "cell_type": "markdown",
   "metadata": {},
   "source": [
    "Purchasing Analysis (Total):\n",
    " \n",
    "Run basic calculations to obtain number of unique items, average price, etc.\n",
    "\n",
    "Create a summary data frame to hold the results\n",
    "\n",
    "Optional: give the displayed data cleaner formatting\n",
    "\n",
    "Display the summary data frame"
   ]
  },
  {
   "cell_type": "code",
   "execution_count": 113,
   "metadata": {},
   "outputs": [],
   "source": [
    "#Calculate the number of unique items\n",
    "\n",
    "Num_Unique_Items = (purchase_data['Item Name'].nunique())\n",
    "\n",
    "#Calculate the total value of all purchases\n",
    "Total_Revenue = (purchase_data['Price'].sum())\n",
    "\n",
    "#Calculate the average price of all purchases\n",
    "Average_Price = (purchase_data['Price'].mean())\n",
    "\n",
    "#Count the number of purchases in total\n",
    "Num_Purchases = (purchase_data['Price'].count())\n"
   ]
  },
  {
   "cell_type": "code",
   "execution_count": 130,
   "metadata": {},
   "outputs": [
    {
     "data": {
      "text/html": [
       "<div>\n",
       "<style scoped>\n",
       "    .dataframe tbody tr th:only-of-type {\n",
       "        vertical-align: middle;\n",
       "    }\n",
       "\n",
       "    .dataframe tbody tr th {\n",
       "        vertical-align: top;\n",
       "    }\n",
       "\n",
       "    .dataframe thead th {\n",
       "        text-align: right;\n",
       "    }\n",
       "</style>\n",
       "<table border=\"1\" class=\"dataframe\">\n",
       "  <thead>\n",
       "    <tr style=\"text-align: right;\">\n",
       "      <th></th>\n",
       "      <th>Number_Unique_Items</th>\n",
       "      <th>Number_of_Purchases</th>\n",
       "      <th>Total_Revenue</th>\n",
       "      <th>Average_Price</th>\n",
       "    </tr>\n",
       "  </thead>\n",
       "  <tbody>\n",
       "    <tr>\n",
       "      <th>0</th>\n",
       "      <td>179</td>\n",
       "      <td>780</td>\n",
       "      <td>$2379.77</td>\n",
       "      <td>$3.05</td>\n",
       "    </tr>\n",
       "  </tbody>\n",
       "</table>\n",
       "</div>"
      ],
      "text/plain": [
       "   Number_Unique_Items  Number_of_Purchases Total_Revenue Average_Price\n",
       "0                  179                  780      $2379.77         $3.05"
      ]
     },
     "execution_count": 130,
     "metadata": {},
     "output_type": "execute_result"
    }
   ],
   "source": [
    "#Add the values to a dictionary\n",
    "summary_dict = {'Number_Unique_Items':Num_Unique_Items,\n",
    "                'Number_of_Purchases':Num_Purchases, \n",
    "                'Total_Revenue':Total_Revenue, \n",
    "                'Average_Price':Average_Price}\n",
    "\n",
    "#Use the dictionary to make a summary dataframe\n",
    "summary_df = pd.DataFrame(summary_dict, index=[0])\n",
    "\n",
    "#Format the columns which return dollar values\n",
    "summary_df[\"Total_Revenue\"] = summary_df[\"Total_Revenue\"].map(\"${:.2f}\".format)\n",
    "summary_df[\"Average_Price\"] = summary_df[\"Average_Price\"].map(\"${:.2f}\".format)\n",
    "summary_df"
   ]
  },
  {
   "cell_type": "markdown",
   "metadata": {},
   "source": [
    " Gender Demographics:\n",
    " \n",
    "Percentage and Count of Male Players\n",
    "\n",
    "Percentage and Count of Female Players\n",
    "\n",
    "Percentage and Count of Other / Non-Disclosed"
   ]
  },
  {
   "cell_type": "code",
   "execution_count": 131,
   "metadata": {},
   "outputs": [
    {
     "data": {
      "text/html": [
       "<div>\n",
       "<style scoped>\n",
       "    .dataframe tbody tr th:only-of-type {\n",
       "        vertical-align: middle;\n",
       "    }\n",
       "\n",
       "    .dataframe tbody tr th {\n",
       "        vertical-align: top;\n",
       "    }\n",
       "\n",
       "    .dataframe thead th {\n",
       "        text-align: right;\n",
       "    }\n",
       "</style>\n",
       "<table border=\"1\" class=\"dataframe\">\n",
       "  <thead>\n",
       "    <tr style=\"text-align: right;\">\n",
       "      <th></th>\n",
       "      <th>Percentage_of_Players</th>\n",
       "      <th>Player_Count</th>\n",
       "    </tr>\n",
       "    <tr>\n",
       "      <th>Gender</th>\n",
       "      <th></th>\n",
       "      <th></th>\n",
       "    </tr>\n",
       "  </thead>\n",
       "  <tbody>\n",
       "    <tr>\n",
       "      <th>Male</th>\n",
       "      <td>84.03%</td>\n",
       "      <td>484</td>\n",
       "    </tr>\n",
       "    <tr>\n",
       "      <th>Female</th>\n",
       "      <td>14.06%</td>\n",
       "      <td>81</td>\n",
       "    </tr>\n",
       "    <tr>\n",
       "      <th>Other / Non-Disclosed</th>\n",
       "      <td>1.91%</td>\n",
       "      <td>11</td>\n",
       "    </tr>\n",
       "  </tbody>\n",
       "</table>\n",
       "</div>"
      ],
      "text/plain": [
       "                      Percentage_of_Players  Player_Count\n",
       "Gender                                                   \n",
       "Male                                 84.03%           484\n",
       "Female                               14.06%            81\n",
       "Other / Non-Disclosed                 1.91%            11"
      ]
     },
     "execution_count": 131,
     "metadata": {},
     "output_type": "execute_result"
    }
   ],
   "source": [
    "#Use grouping to group purchases by gender demographics, and count the number of players in each\n",
    "unique_players_df = purchase_data.groupby(['Gender']).nunique()\n",
    "\n",
    "#Pull the total number of players from previous calculations\n",
    "total_players\n",
    "\n",
    "#Count how many players there are for each gender\n",
    "count_of_each_gender = unique_players_df['SN']\n",
    "\n",
    "#Calculate the gender percentage of total players\n",
    "gender_percentage = (unique_players_df['SN']/total_players)\n",
    "\n",
    "#Add these values to a dictionary, and add formatting for percentage\n",
    "gender_summary_dict = {\"Percentage_of_Players\": gender_percentage.map('{:.2%}'.format),\n",
    "                       \"Player_Count\": count_of_each_gender}\n",
    "\n",
    "#Use the dictionary to create a dataframe\n",
    "gender_demorgraphics_df = pd.DataFrame(gender_summary_dict, columns= [\"Percentage_of_Players\", \"Player_Count\"])\n",
    "\n",
    "#For styling, sort the columns by highest percentage of players\n",
    "gender_demorgraphics_df.sort_values([\"Percentage_of_Players\"], ascending=False)\n"
   ]
  },
  {
   "cell_type": "markdown",
   "metadata": {},
   "source": [
    "Purchasing Analysis (Gender)\n",
    " \n",
    "Run basic calculations to obtain purchase count, avg. purchase price, avg. purchase total per person etc. by gender\n",
    "\n",
    "Create a summary data frame to hold the results\n",
    "\n",
    "Optional: give the displayed data cleaner formatting\n",
    "\n",
    "Display the summary data frame"
   ]
  },
  {
   "cell_type": "code",
   "execution_count": 116,
   "metadata": {},
   "outputs": [
    {
     "data": {
      "text/html": [
       "<style  type=\"text/css\" >\n",
       "</style><table id=\"T_c6f039f4_b6de_11ec_91c9_685b35aa278d\" ><thead>    <tr>        <th class=\"blank level0\" ></th>        <th class=\"col_heading level0 col0\" >Purchase_Count</th>        <th class=\"col_heading level0 col1\" >Total_Purchase_Value</th>        <th class=\"col_heading level0 col2\" >Average_Purchace_Price</th>        <th class=\"col_heading level0 col3\" >Average_Spend_Per_Person</th>    </tr>    <tr>        <th class=\"index_name level0\" >Gender</th>        <th class=\"blank\" ></th>        <th class=\"blank\" ></th>        <th class=\"blank\" ></th>        <th class=\"blank\" ></th>    </tr></thead><tbody>\n",
       "                <tr>\n",
       "                        <th id=\"T_c6f039f4_b6de_11ec_91c9_685b35aa278dlevel0_row0\" class=\"row_heading level0 row0\" >Female</th>\n",
       "                        <td id=\"T_c6f039f4_b6de_11ec_91c9_685b35aa278drow0_col0\" class=\"data row0 col0\" >113</td>\n",
       "                        <td id=\"T_c6f039f4_b6de_11ec_91c9_685b35aa278drow0_col1\" class=\"data row0 col1\" >$361.94</td>\n",
       "                        <td id=\"T_c6f039f4_b6de_11ec_91c9_685b35aa278drow0_col2\" class=\"data row0 col2\" >$3.20</td>\n",
       "                        <td id=\"T_c6f039f4_b6de_11ec_91c9_685b35aa278drow0_col3\" class=\"data row0 col3\" >$4.47</td>\n",
       "            </tr>\n",
       "            <tr>\n",
       "                        <th id=\"T_c6f039f4_b6de_11ec_91c9_685b35aa278dlevel0_row1\" class=\"row_heading level0 row1\" >Male</th>\n",
       "                        <td id=\"T_c6f039f4_b6de_11ec_91c9_685b35aa278drow1_col0\" class=\"data row1 col0\" >652</td>\n",
       "                        <td id=\"T_c6f039f4_b6de_11ec_91c9_685b35aa278drow1_col1\" class=\"data row1 col1\" >$1,967.64</td>\n",
       "                        <td id=\"T_c6f039f4_b6de_11ec_91c9_685b35aa278drow1_col2\" class=\"data row1 col2\" >$3.02</td>\n",
       "                        <td id=\"T_c6f039f4_b6de_11ec_91c9_685b35aa278drow1_col3\" class=\"data row1 col3\" >$4.07</td>\n",
       "            </tr>\n",
       "            <tr>\n",
       "                        <th id=\"T_c6f039f4_b6de_11ec_91c9_685b35aa278dlevel0_row2\" class=\"row_heading level0 row2\" >Other / Non-Disclosed</th>\n",
       "                        <td id=\"T_c6f039f4_b6de_11ec_91c9_685b35aa278drow2_col0\" class=\"data row2 col0\" >15</td>\n",
       "                        <td id=\"T_c6f039f4_b6de_11ec_91c9_685b35aa278drow2_col1\" class=\"data row2 col1\" >$50.19</td>\n",
       "                        <td id=\"T_c6f039f4_b6de_11ec_91c9_685b35aa278drow2_col2\" class=\"data row2 col2\" >$3.35</td>\n",
       "                        <td id=\"T_c6f039f4_b6de_11ec_91c9_685b35aa278drow2_col3\" class=\"data row2 col3\" >$4.56</td>\n",
       "            </tr>\n",
       "    </tbody></table>"
      ],
      "text/plain": [
       "<pandas.io.formats.style.Styler at 0x7fca5ee94e48>"
      ]
     },
     "execution_count": 116,
     "metadata": {},
     "output_type": "execute_result"
    }
   ],
   "source": [
    "#For ease of reading, re-group total purchase data by gender\n",
    "gender_analysis = purchase_data.groupby(['Gender'])\n",
    "\n",
    "#Count the total number of purchases per gender\n",
    "gender_purchase_count = gender_analysis[\"Item ID\"].count()\n",
    "\n",
    "#Sum the total value of the purchases\n",
    "gender_total_purchases = gender_analysis[\"Price\"].sum()\n",
    "\n",
    "#Find the average purcahses price for each gender\n",
    "gender_avg_purchase = gender_analysis[\"Price\"].mean()\n",
    "\n",
    "#Calculate the average spend per person, per gender\n",
    "gender_avg_per_person = gender_total_purchases/count_of_each_gender\n",
    "\n",
    "#Add this data to a dataframe\n",
    "gender_analysis_df = pd.DataFrame({ \"Purchase_Count\":gender_purchase_count,\n",
    "                                   \"Total_Purchase_Value\":gender_total_purchases,\n",
    "                                   \"Average_Purchace_Price\":gender_avg_purchase,\n",
    "                                   \"Average_Spend_Per_Person\":gender_avg_per_person})\n",
    "\n",
    "#Format the dataframe for columns which return dollar values\n",
    "formatting_gender_analysis_df = gender_analysis_df.style.format({\"Total_Purchase_Value\":\"${:,.2f}\",\n",
    "                                \"Average_Purchace_Price\":\"${:,.2f}\",\n",
    "                                \"Average_Spend_Per_Person\":\"${:,.2f}\"})\n",
    "\n",
    "#Display the dataframe\n",
    "formatting_gender_analysis_df"
   ]
  },
  {
   "cell_type": "markdown",
   "metadata": {},
   "source": [
    "Age Demographics\n",
    " \n",
    "Establish bins for ages\n",
    "\n",
    "Categorize the existing players using the age bins. Hint: use pd.cut()\n",
    "\n",
    "Calculate the numbers and percentages by age group\n",
    "\n",
    "Create a summary data frame to hold the results\n",
    "\n",
    "Optional: round the percentage column to two decimal points\n",
    "\n",
    "Display Age Demographics Table"
   ]
  },
  {
   "cell_type": "code",
   "execution_count": 132,
   "metadata": {},
   "outputs": [],
   "source": [
    "#Create bins to sort age groups\n",
    "bins = [0, 9.9, 14.9, 19.9, 24.9, 29.9, 34.9, 39.9, 99.9]\n",
    "\n",
    "#Create age groups titles for bins\n",
    "age_groups = [\"<10\", \"10-14\", \"15-19\", \"20-24\", \"25-29\", \"30-34\", \"35-39\", \"Over 40\"]\n",
    "\n",
    "#Filter data in to bins\n",
    "purchase_data[\"Age Demographics Summary\"] = pd.cut(purchase_data[\"Age\"], bins, labels=age_groups, include_lowest=False)\n"
   ]
  },
  {
   "cell_type": "code",
   "execution_count": 142,
   "metadata": {},
   "outputs": [
    {
     "data": {
      "text/html": [
       "<div>\n",
       "<style scoped>\n",
       "    .dataframe tbody tr th:only-of-type {\n",
       "        vertical-align: middle;\n",
       "    }\n",
       "\n",
       "    .dataframe tbody tr th {\n",
       "        vertical-align: top;\n",
       "    }\n",
       "\n",
       "    .dataframe thead th {\n",
       "        text-align: right;\n",
       "    }\n",
       "</style>\n",
       "<table border=\"1\" class=\"dataframe\">\n",
       "  <thead>\n",
       "    <tr style=\"text-align: right;\">\n",
       "      <th></th>\n",
       "      <th>Percentage_of_Players</th>\n",
       "      <th>Player_Count</th>\n",
       "    </tr>\n",
       "    <tr>\n",
       "      <th>Age Demographics Summary</th>\n",
       "      <th></th>\n",
       "      <th></th>\n",
       "    </tr>\n",
       "  </thead>\n",
       "  <tbody>\n",
       "    <tr>\n",
       "      <th>&lt;10</th>\n",
       "      <td>2.95%</td>\n",
       "      <td>17</td>\n",
       "    </tr>\n",
       "    <tr>\n",
       "      <th>10-14</th>\n",
       "      <td>3.82%</td>\n",
       "      <td>22</td>\n",
       "    </tr>\n",
       "    <tr>\n",
       "      <th>15-19</th>\n",
       "      <td>18.58%</td>\n",
       "      <td>107</td>\n",
       "    </tr>\n",
       "    <tr>\n",
       "      <th>20-24</th>\n",
       "      <td>44.79%</td>\n",
       "      <td>258</td>\n",
       "    </tr>\n",
       "    <tr>\n",
       "      <th>25-29</th>\n",
       "      <td>13.37%</td>\n",
       "      <td>77</td>\n",
       "    </tr>\n",
       "    <tr>\n",
       "      <th>30-34</th>\n",
       "      <td>9.03%</td>\n",
       "      <td>52</td>\n",
       "    </tr>\n",
       "    <tr>\n",
       "      <th>35-39</th>\n",
       "      <td>5.38%</td>\n",
       "      <td>31</td>\n",
       "    </tr>\n",
       "    <tr>\n",
       "      <th>Over 40</th>\n",
       "      <td>2.08%</td>\n",
       "      <td>12</td>\n",
       "    </tr>\n",
       "  </tbody>\n",
       "</table>\n",
       "</div>"
      ],
      "text/plain": [
       "                         Percentage_of_Players  Player_Count\n",
       "Age Demographics Summary                                    \n",
       "<10                                      2.95%            17\n",
       "10-14                                    3.82%            22\n",
       "15-19                                   18.58%           107\n",
       "20-24                                   44.79%           258\n",
       "25-29                                   13.37%            77\n",
       "30-34                                    9.03%            52\n",
       "35-39                                    5.38%            31\n",
       "Over 40                                  2.08%            12"
      ]
     },
     "execution_count": 142,
     "metadata": {},
     "output_type": "execute_result"
    }
   ],
   "source": [
    "#Create a data frame variable to sort data in to Age Group Demographics\n",
    "age_grouped_df = purchase_data.groupby(\"Age Demographics Summary\")\n",
    "\n",
    "#Count the number of players in each age group\n",
    "age_group_count = age_grouped_df[\"SN\"].nunique()\n",
    "\n",
    "#Calculate the percentage of players in each age group\n",
    "age_group_percentage = age_group_count/total_players\n",
    "\n",
    "#Use the variables to create a data frame of age group demographics\n",
    "age_demographics_df = pd.DataFrame({\"Percentage_of_Players\": age_group_percentage.map('{:.2%}'.format), \n",
    "                  \"Player_Count\": age_group_count})\n",
    "age_demographics_df"
   ]
  },
  {
   "cell_type": "markdown",
   "metadata": {},
   "source": [
    "Purchasing Analysis (Age)\n",
    " \n",
    "Bin the purchase_data data frame by age\n",
    "\n",
    "Run basic calculations to obtain purchase count, avg. purchase price, avg. purchase total per person etc. in the table below\n",
    "\n",
    "Create a summary data frame to hold the results\n",
    "\n",
    "Optional: give the displayed data cleaner formatting\n",
    "\n",
    "Display the summary data frame"
   ]
  },
  {
   "cell_type": "code",
   "execution_count": 143,
   "metadata": {},
   "outputs": [
    {
     "data": {
      "text/html": [
       "<style  type=\"text/css\" >\n",
       "</style><table id=\"T_594412a8_b74b_11ec_b0b4_685b35aa278d\" ><thead>    <tr>        <th class=\"blank level0\" ></th>        <th class=\"col_heading level0 col0\" >Avergae_Purchase_Price</th>        <th class=\"col_heading level0 col1\" >Average_Purchase_Per_Person</th>        <th class=\"col_heading level0 col2\" >Total_Purchase_Count</th>        <th class=\"col_heading level0 col3\" >Total_Purchase_Value</th>    </tr>    <tr>        <th class=\"index_name level0\" >Age Demographics Summary</th>        <th class=\"blank\" ></th>        <th class=\"blank\" ></th>        <th class=\"blank\" ></th>        <th class=\"blank\" ></th>    </tr></thead><tbody>\n",
       "                <tr>\n",
       "                        <th id=\"T_594412a8_b74b_11ec_b0b4_685b35aa278dlevel0_row0\" class=\"row_heading level0 row0\" ><10</th>\n",
       "                        <td id=\"T_594412a8_b74b_11ec_b0b4_685b35aa278drow0_col0\" class=\"data row0 col0\" >$3.35</td>\n",
       "                        <td id=\"T_594412a8_b74b_11ec_b0b4_685b35aa278drow0_col1\" class=\"data row0 col1\" >$4.54</td>\n",
       "                        <td id=\"T_594412a8_b74b_11ec_b0b4_685b35aa278drow0_col2\" class=\"data row0 col2\" >23</td>\n",
       "                        <td id=\"T_594412a8_b74b_11ec_b0b4_685b35aa278drow0_col3\" class=\"data row0 col3\" >$77.13</td>\n",
       "            </tr>\n",
       "            <tr>\n",
       "                        <th id=\"T_594412a8_b74b_11ec_b0b4_685b35aa278dlevel0_row1\" class=\"row_heading level0 row1\" >10-14</th>\n",
       "                        <td id=\"T_594412a8_b74b_11ec_b0b4_685b35aa278drow1_col0\" class=\"data row1 col0\" >$2.96</td>\n",
       "                        <td id=\"T_594412a8_b74b_11ec_b0b4_685b35aa278drow1_col1\" class=\"data row1 col1\" >$3.76</td>\n",
       "                        <td id=\"T_594412a8_b74b_11ec_b0b4_685b35aa278drow1_col2\" class=\"data row1 col2\" >28</td>\n",
       "                        <td id=\"T_594412a8_b74b_11ec_b0b4_685b35aa278drow1_col3\" class=\"data row1 col3\" >$82.78</td>\n",
       "            </tr>\n",
       "            <tr>\n",
       "                        <th id=\"T_594412a8_b74b_11ec_b0b4_685b35aa278dlevel0_row2\" class=\"row_heading level0 row2\" >15-19</th>\n",
       "                        <td id=\"T_594412a8_b74b_11ec_b0b4_685b35aa278drow2_col0\" class=\"data row2 col0\" >$3.04</td>\n",
       "                        <td id=\"T_594412a8_b74b_11ec_b0b4_685b35aa278drow2_col1\" class=\"data row2 col1\" >$3.86</td>\n",
       "                        <td id=\"T_594412a8_b74b_11ec_b0b4_685b35aa278drow2_col2\" class=\"data row2 col2\" >136</td>\n",
       "                        <td id=\"T_594412a8_b74b_11ec_b0b4_685b35aa278drow2_col3\" class=\"data row2 col3\" >$412.89</td>\n",
       "            </tr>\n",
       "            <tr>\n",
       "                        <th id=\"T_594412a8_b74b_11ec_b0b4_685b35aa278dlevel0_row3\" class=\"row_heading level0 row3\" >20-24</th>\n",
       "                        <td id=\"T_594412a8_b74b_11ec_b0b4_685b35aa278drow3_col0\" class=\"data row3 col0\" >$3.05</td>\n",
       "                        <td id=\"T_594412a8_b74b_11ec_b0b4_685b35aa278drow3_col1\" class=\"data row3 col1\" >$4.32</td>\n",
       "                        <td id=\"T_594412a8_b74b_11ec_b0b4_685b35aa278drow3_col2\" class=\"data row3 col2\" >365</td>\n",
       "                        <td id=\"T_594412a8_b74b_11ec_b0b4_685b35aa278drow3_col3\" class=\"data row3 col3\" >$1,114.06</td>\n",
       "            </tr>\n",
       "            <tr>\n",
       "                        <th id=\"T_594412a8_b74b_11ec_b0b4_685b35aa278dlevel0_row4\" class=\"row_heading level0 row4\" >25-29</th>\n",
       "                        <td id=\"T_594412a8_b74b_11ec_b0b4_685b35aa278drow4_col0\" class=\"data row4 col0\" >$2.90</td>\n",
       "                        <td id=\"T_594412a8_b74b_11ec_b0b4_685b35aa278drow4_col1\" class=\"data row4 col1\" >$3.81</td>\n",
       "                        <td id=\"T_594412a8_b74b_11ec_b0b4_685b35aa278drow4_col2\" class=\"data row4 col2\" >101</td>\n",
       "                        <td id=\"T_594412a8_b74b_11ec_b0b4_685b35aa278drow4_col3\" class=\"data row4 col3\" >$293.00</td>\n",
       "            </tr>\n",
       "            <tr>\n",
       "                        <th id=\"T_594412a8_b74b_11ec_b0b4_685b35aa278dlevel0_row5\" class=\"row_heading level0 row5\" >30-34</th>\n",
       "                        <td id=\"T_594412a8_b74b_11ec_b0b4_685b35aa278drow5_col0\" class=\"data row5 col0\" >$2.93</td>\n",
       "                        <td id=\"T_594412a8_b74b_11ec_b0b4_685b35aa278drow5_col1\" class=\"data row5 col1\" >$4.12</td>\n",
       "                        <td id=\"T_594412a8_b74b_11ec_b0b4_685b35aa278drow5_col2\" class=\"data row5 col2\" >73</td>\n",
       "                        <td id=\"T_594412a8_b74b_11ec_b0b4_685b35aa278drow5_col3\" class=\"data row5 col3\" >$214.00</td>\n",
       "            </tr>\n",
       "            <tr>\n",
       "                        <th id=\"T_594412a8_b74b_11ec_b0b4_685b35aa278dlevel0_row6\" class=\"row_heading level0 row6\" >35-39</th>\n",
       "                        <td id=\"T_594412a8_b74b_11ec_b0b4_685b35aa278drow6_col0\" class=\"data row6 col0\" >$3.60</td>\n",
       "                        <td id=\"T_594412a8_b74b_11ec_b0b4_685b35aa278drow6_col1\" class=\"data row6 col1\" >$4.76</td>\n",
       "                        <td id=\"T_594412a8_b74b_11ec_b0b4_685b35aa278drow6_col2\" class=\"data row6 col2\" >41</td>\n",
       "                        <td id=\"T_594412a8_b74b_11ec_b0b4_685b35aa278drow6_col3\" class=\"data row6 col3\" >$147.67</td>\n",
       "            </tr>\n",
       "            <tr>\n",
       "                        <th id=\"T_594412a8_b74b_11ec_b0b4_685b35aa278dlevel0_row7\" class=\"row_heading level0 row7\" >Over 40</th>\n",
       "                        <td id=\"T_594412a8_b74b_11ec_b0b4_685b35aa278drow7_col0\" class=\"data row7 col0\" >$2.94</td>\n",
       "                        <td id=\"T_594412a8_b74b_11ec_b0b4_685b35aa278drow7_col1\" class=\"data row7 col1\" >$3.19</td>\n",
       "                        <td id=\"T_594412a8_b74b_11ec_b0b4_685b35aa278drow7_col2\" class=\"data row7 col2\" >13</td>\n",
       "                        <td id=\"T_594412a8_b74b_11ec_b0b4_685b35aa278drow7_col3\" class=\"data row7 col3\" >$38.24</td>\n",
       "            </tr>\n",
       "    </tbody></table>"
      ],
      "text/plain": [
       "<pandas.io.formats.style.Styler at 0x7fca5f1e29e8>"
      ]
     },
     "execution_count": 143,
     "metadata": {},
     "output_type": "execute_result"
    }
   ],
   "source": [
    "\n",
    "#Use the grouped age groups to find the average price of purchases\n",
    "avg_price = age_grouped_df[\"Price\"].mean()\n",
    "\n",
    "#Count the number of purchases for each age group\n",
    "purchase_count_age = age_grouped_df[\"Price\"].count()\n",
    "\n",
    "#Total the prices of purchases in each group\n",
    "total_per_age = age_grouped_df[\"Price\"].sum()\n",
    "\n",
    "#Find the average spend per person\n",
    "avg_per_person = total_per_age/age_group_count\n",
    "\n",
    "#Use the calculated variables to create a data frame\n",
    "age_demo_analysis_df = pd.DataFrame({\"Avergae_Purchase_Price\":avg_price,\n",
    "                                     \"Average_Purchase_Per_Person\" :avg_per_person,\n",
    "                                    \"Total_Purchase_Count\" : purchase_count_age,\n",
    "                                    \"Total_Purchase_Value\" : total_per_age})\n",
    "\n",
    "#Format data frame for variables that return dollar values\n",
    "age_demo_analysis_df.style.format({\"Avergae_Purchase_Price\":\"${:,.2f}\", \n",
    "                                 \"Total_Purchase_Value\":\"${:,.2f}\",\n",
    "                                 \"Average_Purchase_Per_Person\":\"${:,.2f}\"})\n",
    "\n"
   ]
  },
  {
   "cell_type": "markdown",
   "metadata": {},
   "source": [
    "Top Spenders\n",
    " \n",
    "Run basic calculations to obtain the results in the table below\n",
    "\n",
    "Create a summary data frame to hold the results\n",
    "\n",
    "Sort the total purchase value column in descending order\n",
    "\n",
    "Optional: give the displayed data cleaner formatting\n",
    "\n",
    "Display a preview of the summary data frame"
   ]
  },
  {
   "cell_type": "code",
   "execution_count": 135,
   "metadata": {},
   "outputs": [
    {
     "data": {
      "text/html": [
       "<style  type=\"text/css\" >\n",
       "</style><table id=\"T_62fa6a6e_b6fc_11ec_ab71_685b35aa278d\" ><thead>    <tr>        <th class=\"blank level0\" ></th>        <th class=\"col_heading level0 col0\" >Total Purchase Count</th>        <th class=\"col_heading level0 col1\" >Total Spending</th>        <th class=\"col_heading level0 col2\" >Average Purchase Price</th>    </tr>    <tr>        <th class=\"index_name level0\" >SN</th>        <th class=\"blank\" ></th>        <th class=\"blank\" ></th>        <th class=\"blank\" ></th>    </tr></thead><tbody>\n",
       "                <tr>\n",
       "                        <th id=\"T_62fa6a6e_b6fc_11ec_ab71_685b35aa278dlevel0_row0\" class=\"row_heading level0 row0\" >Lisosia93</th>\n",
       "                        <td id=\"T_62fa6a6e_b6fc_11ec_ab71_685b35aa278drow0_col0\" class=\"data row0 col0\" >5</td>\n",
       "                        <td id=\"T_62fa6a6e_b6fc_11ec_ab71_685b35aa278drow0_col1\" class=\"data row0 col1\" >$18.96</td>\n",
       "                        <td id=\"T_62fa6a6e_b6fc_11ec_ab71_685b35aa278drow0_col2\" class=\"data row0 col2\" >$3.79</td>\n",
       "            </tr>\n",
       "            <tr>\n",
       "                        <th id=\"T_62fa6a6e_b6fc_11ec_ab71_685b35aa278dlevel0_row1\" class=\"row_heading level0 row1\" >Idastidru52</th>\n",
       "                        <td id=\"T_62fa6a6e_b6fc_11ec_ab71_685b35aa278drow1_col0\" class=\"data row1 col0\" >4</td>\n",
       "                        <td id=\"T_62fa6a6e_b6fc_11ec_ab71_685b35aa278drow1_col1\" class=\"data row1 col1\" >$15.45</td>\n",
       "                        <td id=\"T_62fa6a6e_b6fc_11ec_ab71_685b35aa278drow1_col2\" class=\"data row1 col2\" >$3.86</td>\n",
       "            </tr>\n",
       "            <tr>\n",
       "                        <th id=\"T_62fa6a6e_b6fc_11ec_ab71_685b35aa278dlevel0_row2\" class=\"row_heading level0 row2\" >Chamjask73</th>\n",
       "                        <td id=\"T_62fa6a6e_b6fc_11ec_ab71_685b35aa278drow2_col0\" class=\"data row2 col0\" >3</td>\n",
       "                        <td id=\"T_62fa6a6e_b6fc_11ec_ab71_685b35aa278drow2_col1\" class=\"data row2 col1\" >$13.83</td>\n",
       "                        <td id=\"T_62fa6a6e_b6fc_11ec_ab71_685b35aa278drow2_col2\" class=\"data row2 col2\" >$4.61</td>\n",
       "            </tr>\n",
       "            <tr>\n",
       "                        <th id=\"T_62fa6a6e_b6fc_11ec_ab71_685b35aa278dlevel0_row3\" class=\"row_heading level0 row3\" >Iral74</th>\n",
       "                        <td id=\"T_62fa6a6e_b6fc_11ec_ab71_685b35aa278drow3_col0\" class=\"data row3 col0\" >4</td>\n",
       "                        <td id=\"T_62fa6a6e_b6fc_11ec_ab71_685b35aa278drow3_col1\" class=\"data row3 col1\" >$13.62</td>\n",
       "                        <td id=\"T_62fa6a6e_b6fc_11ec_ab71_685b35aa278drow3_col2\" class=\"data row3 col2\" >$3.40</td>\n",
       "            </tr>\n",
       "            <tr>\n",
       "                        <th id=\"T_62fa6a6e_b6fc_11ec_ab71_685b35aa278dlevel0_row4\" class=\"row_heading level0 row4\" >Iskadarya95</th>\n",
       "                        <td id=\"T_62fa6a6e_b6fc_11ec_ab71_685b35aa278drow4_col0\" class=\"data row4 col0\" >3</td>\n",
       "                        <td id=\"T_62fa6a6e_b6fc_11ec_ab71_685b35aa278drow4_col1\" class=\"data row4 col1\" >$13.10</td>\n",
       "                        <td id=\"T_62fa6a6e_b6fc_11ec_ab71_685b35aa278drow4_col2\" class=\"data row4 col2\" >$4.37</td>\n",
       "            </tr>\n",
       "    </tbody></table>"
      ],
      "text/plain": [
       "<pandas.io.formats.style.Styler at 0x7fca5ee17470>"
      ]
     },
     "execution_count": 135,
     "metadata": {},
     "output_type": "execute_result"
    }
   ],
   "source": [
    "#Create a variable for data grouped by player ID \"SN\"\n",
    "top_spenders = purchase_data.groupby([\"SN\"])\n",
    "\n",
    "#For each player, sum their total spending\n",
    "total_spending = top_spenders[\"Price\"].sum()\n",
    "\n",
    "#Calculate the total number of purchases for each player\n",
    "purchase_count_bySN = top_spenders[\"Purchase ID\"].count()\n",
    "\n",
    "#Calculate the average spend of each player\n",
    "avg_spend = top_spenders[\"Price\"].mean()\n",
    "\n",
    "#Use the variables to create a data frame\n",
    "top_spenders_df = pd.DataFrame({ \"Total Purchase Count\": purchase_count_bySN,\n",
    "                                \"Total Spending\": total_spending,\n",
    "                                \"Average Purchase Price\": avg_spend})\n",
    "\n",
    "#Sort data frame to show top five spenders, before formatting is applied\n",
    "for_formatting_spenders = top_spenders_df.sort_values([\"Total Spending\"], ascending=False).head()\n",
    "\n",
    "#Format data frame for variables that return dollar values\n",
    "for_formatting_spenders.style.format({\"Total Spending\":\"${:,.2f}\",\n",
    "                                      \"Average Purchase Price\":\"${:,.2f}\"})\n",
    "\n",
    "\n"
   ]
  },
  {
   "cell_type": "markdown",
   "metadata": {},
   "source": [
    "Most Popular Items\n",
    " \n",
    "Retrieve the Item ID, Item Name, and Item Price columns\n",
    "\n",
    "Group by Item ID and Item Name. Perform calculations to obtain purchase count, item price, and total purchase value\n",
    "\n",
    "Create a summary data frame to hold the results\n",
    "\n",
    "Sort the purchase count column in descending order\n",
    "\n",
    "Optional: give the displayed data cleaner formatting\n",
    "\n",
    "Display a preview of the summary data frame"
   ]
  },
  {
   "cell_type": "code",
   "execution_count": 123,
   "metadata": {},
   "outputs": [
    {
     "data": {
      "text/html": [
       "<style  type=\"text/css\" >\n",
       "</style><table id=\"T_e694bcee_b6de_11ec_9a8b_685b35aa278d\" ><thead>    <tr>        <th class=\"blank\" ></th>        <th class=\"blank level0\" ></th>        <th class=\"col_heading level0 col0\" >Purchase_Count</th>        <th class=\"col_heading level0 col1\" >Total_Purchase_Value</th>        <th class=\"col_heading level0 col2\" >Item Price</th>    </tr>    <tr>        <th class=\"index_name level0\" >Item ID</th>        <th class=\"index_name level1\" >Item Name</th>        <th class=\"blank\" ></th>        <th class=\"blank\" ></th>        <th class=\"blank\" ></th>    </tr></thead><tbody>\n",
       "                <tr>\n",
       "                        <th id=\"T_e694bcee_b6de_11ec_9a8b_685b35aa278dlevel0_row0\" class=\"row_heading level0 row0\" >92</th>\n",
       "                        <th id=\"T_e694bcee_b6de_11ec_9a8b_685b35aa278dlevel1_row0\" class=\"row_heading level1 row0\" >Final Critic</th>\n",
       "                        <td id=\"T_e694bcee_b6de_11ec_9a8b_685b35aa278drow0_col0\" class=\"data row0 col0\" >13</td>\n",
       "                        <td id=\"T_e694bcee_b6de_11ec_9a8b_685b35aa278drow0_col1\" class=\"data row0 col1\" >$59.99</td>\n",
       "                        <td id=\"T_e694bcee_b6de_11ec_9a8b_685b35aa278drow0_col2\" class=\"data row0 col2\" >$4.61</td>\n",
       "            </tr>\n",
       "            <tr>\n",
       "                        <th id=\"T_e694bcee_b6de_11ec_9a8b_685b35aa278dlevel0_row1\" class=\"row_heading level0 row1\" >178</th>\n",
       "                        <th id=\"T_e694bcee_b6de_11ec_9a8b_685b35aa278dlevel1_row1\" class=\"row_heading level1 row1\" >Oathbreaker, Last Hope of the Breaking Storm</th>\n",
       "                        <td id=\"T_e694bcee_b6de_11ec_9a8b_685b35aa278drow1_col0\" class=\"data row1 col0\" >12</td>\n",
       "                        <td id=\"T_e694bcee_b6de_11ec_9a8b_685b35aa278drow1_col1\" class=\"data row1 col1\" >$50.76</td>\n",
       "                        <td id=\"T_e694bcee_b6de_11ec_9a8b_685b35aa278drow1_col2\" class=\"data row1 col2\" >$4.23</td>\n",
       "            </tr>\n",
       "            <tr>\n",
       "                        <th id=\"T_e694bcee_b6de_11ec_9a8b_685b35aa278dlevel0_row2\" class=\"row_heading level0 row2\" >145</th>\n",
       "                        <th id=\"T_e694bcee_b6de_11ec_9a8b_685b35aa278dlevel1_row2\" class=\"row_heading level1 row2\" >Fiery Glass Crusader</th>\n",
       "                        <td id=\"T_e694bcee_b6de_11ec_9a8b_685b35aa278drow2_col0\" class=\"data row2 col0\" >9</td>\n",
       "                        <td id=\"T_e694bcee_b6de_11ec_9a8b_685b35aa278drow2_col1\" class=\"data row2 col1\" >$41.22</td>\n",
       "                        <td id=\"T_e694bcee_b6de_11ec_9a8b_685b35aa278drow2_col2\" class=\"data row2 col2\" >$4.58</td>\n",
       "            </tr>\n",
       "            <tr>\n",
       "                        <th id=\"T_e694bcee_b6de_11ec_9a8b_685b35aa278dlevel0_row3\" class=\"row_heading level0 row3\" >132</th>\n",
       "                        <th id=\"T_e694bcee_b6de_11ec_9a8b_685b35aa278dlevel1_row3\" class=\"row_heading level1 row3\" >Persuasion</th>\n",
       "                        <td id=\"T_e694bcee_b6de_11ec_9a8b_685b35aa278drow3_col0\" class=\"data row3 col0\" >9</td>\n",
       "                        <td id=\"T_e694bcee_b6de_11ec_9a8b_685b35aa278drow3_col1\" class=\"data row3 col1\" >$28.99</td>\n",
       "                        <td id=\"T_e694bcee_b6de_11ec_9a8b_685b35aa278drow3_col2\" class=\"data row3 col2\" >$3.22</td>\n",
       "            </tr>\n",
       "            <tr>\n",
       "                        <th id=\"T_e694bcee_b6de_11ec_9a8b_685b35aa278dlevel0_row4\" class=\"row_heading level0 row4\" >108</th>\n",
       "                        <th id=\"T_e694bcee_b6de_11ec_9a8b_685b35aa278dlevel1_row4\" class=\"row_heading level1 row4\" >Extraction, Quickblade Of Trembling Hands</th>\n",
       "                        <td id=\"T_e694bcee_b6de_11ec_9a8b_685b35aa278drow4_col0\" class=\"data row4 col0\" >9</td>\n",
       "                        <td id=\"T_e694bcee_b6de_11ec_9a8b_685b35aa278drow4_col1\" class=\"data row4 col1\" >$31.77</td>\n",
       "                        <td id=\"T_e694bcee_b6de_11ec_9a8b_685b35aa278drow4_col2\" class=\"data row4 col2\" >$3.53</td>\n",
       "            </tr>\n",
       "    </tbody></table>"
      ],
      "text/plain": [
       "<pandas.io.formats.style.Styler at 0x7fca5d7dca58>"
      ]
     },
     "execution_count": 123,
     "metadata": {},
     "output_type": "execute_result"
    }
   ],
   "source": [
    "#Create data frame variable to show only Item ID, Item Name and Item Price columns\n",
    "popular_df = purchase_data.iloc[:, 4:7]\n",
    "\n",
    "#Group data frame by Item ID and Item Name\n",
    "item_count_df = popular_df.groupby([\"Item ID\", \"Item Name\"])\n",
    "\n",
    "#Tally purchase count\n",
    "purchase_count = item_count_df[\"Price\"].count()\n",
    "\n",
    "#Sum the total sales value of each item\n",
    "total_purchase_value = item_count_df[\"Price\"].sum()\n",
    "\n",
    "#Create variable for the price of each item\n",
    "item_price = total_purchase_value/purchase_count\n",
    "\n",
    "#Store variables in a data frame\n",
    "popular_items_df = pd.DataFrame({ \"Purchase_Count\":purchase_count, \n",
    "                      \"Total_Purchase_Value\":total_purchase_value, \n",
    "                      \"Item Price\":item_price})\n",
    "\n",
    "#Sort data frame to show top five items by sales number\n",
    "for_formatting_popular = popular_items_df.sort_values([\"Purchase_Count\"], ascending=False).head()\n",
    "\n",
    "#Format data frame for variables that return dollar values\n",
    "for_formatting_popular.style.format({\"Total_Purchase_Value\":\"${:,.2f}\",\n",
    "                                \"Item Price\":\"${:,.2f}\"})\n"
   ]
  },
  {
   "cell_type": "markdown",
   "metadata": {},
   "source": [
    "Most Profitable Items\n",
    " \n",
    "Sort the above table by total purchase value in descending order\n",
    "\n",
    "Optional: give the displayed data cleaner formatting\n",
    "\n",
    "Display a preview of the data frame"
   ]
  },
  {
   "cell_type": "code",
   "execution_count": 124,
   "metadata": {},
   "outputs": [
    {
     "data": {
      "text/html": [
       "<style  type=\"text/css\" >\n",
       "</style><table id=\"T_e921d21c_b6de_11ec_9d03_685b35aa278d\" ><thead>    <tr>        <th class=\"blank\" ></th>        <th class=\"blank level0\" ></th>        <th class=\"col_heading level0 col0\" >Purchase_Count</th>        <th class=\"col_heading level0 col1\" >Total_Purchase_Value</th>        <th class=\"col_heading level0 col2\" >Item Price</th>    </tr>    <tr>        <th class=\"index_name level0\" >Item ID</th>        <th class=\"index_name level1\" >Item Name</th>        <th class=\"blank\" ></th>        <th class=\"blank\" ></th>        <th class=\"blank\" ></th>    </tr></thead><tbody>\n",
       "                <tr>\n",
       "                        <th id=\"T_e921d21c_b6de_11ec_9d03_685b35aa278dlevel0_row0\" class=\"row_heading level0 row0\" >92</th>\n",
       "                        <th id=\"T_e921d21c_b6de_11ec_9d03_685b35aa278dlevel1_row0\" class=\"row_heading level1 row0\" >Final Critic</th>\n",
       "                        <td id=\"T_e921d21c_b6de_11ec_9d03_685b35aa278drow0_col0\" class=\"data row0 col0\" >13</td>\n",
       "                        <td id=\"T_e921d21c_b6de_11ec_9d03_685b35aa278drow0_col1\" class=\"data row0 col1\" >$59.99</td>\n",
       "                        <td id=\"T_e921d21c_b6de_11ec_9d03_685b35aa278drow0_col2\" class=\"data row0 col2\" >$4.61</td>\n",
       "            </tr>\n",
       "            <tr>\n",
       "                        <th id=\"T_e921d21c_b6de_11ec_9d03_685b35aa278dlevel0_row1\" class=\"row_heading level0 row1\" >178</th>\n",
       "                        <th id=\"T_e921d21c_b6de_11ec_9d03_685b35aa278dlevel1_row1\" class=\"row_heading level1 row1\" >Oathbreaker, Last Hope of the Breaking Storm</th>\n",
       "                        <td id=\"T_e921d21c_b6de_11ec_9d03_685b35aa278drow1_col0\" class=\"data row1 col0\" >12</td>\n",
       "                        <td id=\"T_e921d21c_b6de_11ec_9d03_685b35aa278drow1_col1\" class=\"data row1 col1\" >$50.76</td>\n",
       "                        <td id=\"T_e921d21c_b6de_11ec_9d03_685b35aa278drow1_col2\" class=\"data row1 col2\" >$4.23</td>\n",
       "            </tr>\n",
       "            <tr>\n",
       "                        <th id=\"T_e921d21c_b6de_11ec_9d03_685b35aa278dlevel0_row2\" class=\"row_heading level0 row2\" >145</th>\n",
       "                        <th id=\"T_e921d21c_b6de_11ec_9d03_685b35aa278dlevel1_row2\" class=\"row_heading level1 row2\" >Fiery Glass Crusader</th>\n",
       "                        <td id=\"T_e921d21c_b6de_11ec_9d03_685b35aa278drow2_col0\" class=\"data row2 col0\" >9</td>\n",
       "                        <td id=\"T_e921d21c_b6de_11ec_9d03_685b35aa278drow2_col1\" class=\"data row2 col1\" >$41.22</td>\n",
       "                        <td id=\"T_e921d21c_b6de_11ec_9d03_685b35aa278drow2_col2\" class=\"data row2 col2\" >$4.58</td>\n",
       "            </tr>\n",
       "            <tr>\n",
       "                        <th id=\"T_e921d21c_b6de_11ec_9d03_685b35aa278dlevel0_row3\" class=\"row_heading level0 row3\" >132</th>\n",
       "                        <th id=\"T_e921d21c_b6de_11ec_9d03_685b35aa278dlevel1_row3\" class=\"row_heading level1 row3\" >Persuasion</th>\n",
       "                        <td id=\"T_e921d21c_b6de_11ec_9d03_685b35aa278drow3_col0\" class=\"data row3 col0\" >9</td>\n",
       "                        <td id=\"T_e921d21c_b6de_11ec_9d03_685b35aa278drow3_col1\" class=\"data row3 col1\" >$28.99</td>\n",
       "                        <td id=\"T_e921d21c_b6de_11ec_9d03_685b35aa278drow3_col2\" class=\"data row3 col2\" >$3.22</td>\n",
       "            </tr>\n",
       "            <tr>\n",
       "                        <th id=\"T_e921d21c_b6de_11ec_9d03_685b35aa278dlevel0_row4\" class=\"row_heading level0 row4\" >108</th>\n",
       "                        <th id=\"T_e921d21c_b6de_11ec_9d03_685b35aa278dlevel1_row4\" class=\"row_heading level1 row4\" >Extraction, Quickblade Of Trembling Hands</th>\n",
       "                        <td id=\"T_e921d21c_b6de_11ec_9d03_685b35aa278drow4_col0\" class=\"data row4 col0\" >9</td>\n",
       "                        <td id=\"T_e921d21c_b6de_11ec_9d03_685b35aa278drow4_col1\" class=\"data row4 col1\" >$31.77</td>\n",
       "                        <td id=\"T_e921d21c_b6de_11ec_9d03_685b35aa278drow4_col2\" class=\"data row4 col2\" >$3.53</td>\n",
       "            </tr>\n",
       "    </tbody></table>"
      ],
      "text/plain": [
       "<pandas.io.formats.style.Styler at 0x7fca5eeb9358>"
      ]
     },
     "execution_count": 124,
     "metadata": {},
     "output_type": "execute_result"
    }
   ],
   "source": [
    "#Sort previous data frame by \"Total_Purchase_Value\"\n",
    "for_formatting_popular.sort_values([\"Total_Purchase_Value\"], ascending=False).head()\n",
    "\n",
    "#Format data frame for variables that return dollar values\n",
    "for_formatting_popular.style.format({\"Total_Purchase_Value\":\"${:,.2f}\",\n",
    "                                    \"Item Price\":\"${:,.2f}\"})"
   ]
  }
 ],
 "metadata": {
  "interpreter": {
   "hash": "a5387b9da968551e43e0ccab31c37bebadc093c630309dcd510e17231b5b064a"
  },
  "kernelspec": {
   "display_name": "Python 3.6.13 ('PythonData')",
   "language": "python",
   "name": "python3"
  },
  "language_info": {
   "codemirror_mode": {
    "name": "ipython",
    "version": 3
   },
   "file_extension": ".py",
   "mimetype": "text/x-python",
   "name": "python",
   "nbconvert_exporter": "python",
   "pygments_lexer": "ipython3",
   "version": "3.6.13"
  },
  "orig_nbformat": 4
 },
 "nbformat": 4,
 "nbformat_minor": 2
}
